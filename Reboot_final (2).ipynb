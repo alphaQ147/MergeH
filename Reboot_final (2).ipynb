{
 "cells": [
  {
   "cell_type": "markdown",
   "metadata": {},
   "source": [
    "## Importing libraries "
   ]
  },
  {
   "cell_type": "code",
   "execution_count": 28,
   "metadata": {},
   "outputs": [],
   "source": [
    "from sklearn import datasets\n",
    "import pandas as pd\n",
    "from sklearn.cross_validation import train_test_split\n",
    "from sklearn.metrics import confusion_matrix\n",
    "from sklearn.neighbors import KNeighborsClassifier"
   ]
  },
  {
   "cell_type": "code",
   "execution_count": 29,
   "metadata": {},
   "outputs": [],
   "source": [
    "#We've defined the three gases that we have considered and the class is the diseases caused/ aggrevated by the \n",
    "#composition of the gases / the environment.\n",
    "names  = ['CO2','O2','N2','class']"
   ]
  },
  {
   "cell_type": "markdown",
   "metadata": {},
   "source": [
    "## Creating a dataframe which stores the data in a table "
   ]
  },
  {
   "cell_type": "code",
   "execution_count": 40,
   "metadata": {},
   "outputs": [
    {
     "data": {
      "text/html": [
       "<div>\n",
       "<style scoped>\n",
       "    .dataframe tbody tr th:only-of-type {\n",
       "        vertical-align: middle;\n",
       "    }\n",
       "\n",
       "    .dataframe tbody tr th {\n",
       "        vertical-align: top;\n",
       "    }\n",
       "\n",
       "    .dataframe thead th {\n",
       "        text-align: right;\n",
       "    }\n",
       "</style>\n",
       "<table border=\"1\" class=\"dataframe\">\n",
       "  <thead>\n",
       "    <tr style=\"text-align: right;\">\n",
       "      <th></th>\n",
       "      <th>CO2</th>\n",
       "      <th>O2</th>\n",
       "      <th>N2</th>\n",
       "      <th>class</th>\n",
       "    </tr>\n",
       "  </thead>\n",
       "  <tbody>\n",
       "    <tr>\n",
       "      <th>0</th>\n",
       "      <td>25.88</td>\n",
       "      <td>3.93</td>\n",
       "      <td>5.71</td>\n",
       "      <td>gas_intox</td>\n",
       "    </tr>\n",
       "    <tr>\n",
       "      <th>1</th>\n",
       "      <td>25.77</td>\n",
       "      <td>3.95</td>\n",
       "      <td>5.03</td>\n",
       "      <td>gas_intox</td>\n",
       "    </tr>\n",
       "    <tr>\n",
       "      <th>2</th>\n",
       "      <td>25.21</td>\n",
       "      <td>2.98</td>\n",
       "      <td>5.70</td>\n",
       "      <td>gas_intox</td>\n",
       "    </tr>\n",
       "    <tr>\n",
       "      <th>3</th>\n",
       "      <td>24.98</td>\n",
       "      <td>3.23</td>\n",
       "      <td>5.03</td>\n",
       "      <td>gas_intox</td>\n",
       "    </tr>\n",
       "    <tr>\n",
       "      <th>4</th>\n",
       "      <td>24.95</td>\n",
       "      <td>3.80</td>\n",
       "      <td>5.72</td>\n",
       "      <td>gas_intox</td>\n",
       "    </tr>\n",
       "  </tbody>\n",
       "</table>\n",
       "</div>"
      ],
      "text/plain": [
       "     CO2    O2    N2      class\n",
       "0  25.88  3.93  5.71  gas_intox\n",
       "1  25.77  3.95  5.03  gas_intox\n",
       "2  25.21  2.98  5.70  gas_intox\n",
       "3  24.98  3.23  5.03  gas_intox\n",
       "4  24.95  3.80  5.72  gas_intox"
      ]
     },
     "execution_count": 40,
     "metadata": {},
     "output_type": "execute_result"
    }
   ],
   "source": [
    "df = pd.read_csv('/Users/Varun/Desktop/d1c124.csv',header = None,names = names)\n",
    "df.head()"
   ]
  },
  {
   "cell_type": "code",
   "execution_count": 31,
   "metadata": {
    "scrolled": true
   },
   "outputs": [
    {
     "name": "stdout",
     "output_type": "stream",
     "text": [
      "['cardiac' 'gas_intox' 'gas_intox' 'Perfect' 'Perfect' 'gas_intox'\n",
      " 'gas_intox' 'cardiac' 'Perfect' 'emphysema' 'Perfect' 'Perfect' 'asthama'\n",
      " 'Perfect' 'Perfect' 'Perfect' 'Perfect' 'gas_intox' 'Perfect' 'emphysema'\n",
      " 'asthama' 'emphysema' 'emphysema' 'asthama' 'asthama' 'Perfect' 'Perfect'\n",
      " 'asthama' 'Perfect' 'Perfect' 'asthama' 'gas_intox' 'Perfect' 'Perfect'\n",
      " 'gas_intox' 'gas_intox' 'Perfect' 'Perfect' 'cardiac' 'Perfect' 'Perfect'\n",
      " 'Perfect' 'Perfect' 'Perfect' 'asthama' 'Perfect' 'Perfect' 'gas_intox'\n",
      " 'asthama' 'Perfect' 'Perfect' 'Perfect' 'Perfect' 'asthama' 'Perfect'\n",
      " 'Perfect' 'Perfect' 'emphysema' 'gas_intox' 'Perfect' 'Perfect' 'Perfect'\n",
      " 'Perfect' 'Perfect' 'Perfect' 'Perfect' 'Perfect' 'cardiac' 'Perfect'\n",
      " 'Perfect' 'Perfect' 'cardiac' 'Perfect' 'Perfect' 'cardiac' 'Perfect'\n",
      " 'Perfect' 'Perfect' 'Perfect' 'asthama' 'Perfect' 'Perfect' 'Perfect'\n",
      " 'asthama' 'asthama' 'Perfect' 'Perfect' 'Perfect' 'Perfect' 'Perfect'\n",
      " 'asthama' 'Perfect' 'Perfect' 'Perfect' 'Perfect' 'emphysema' 'Perfect'\n",
      " 'Perfect' 'Perfect' 'gas_intox' 'Perfect' 'Perfect' 'Perfect' 'Perfect'\n",
      " 'Perfect' 'Perfect' 'Perfect' 'Perfect' 'Perfect' 'Perfect' 'cardiac'\n",
      " 'Perfect' 'Perfect' 'emphysema' 'Perfect' 'Perfect' 'Perfect' 'asthama'\n",
      " 'Perfect' 'Perfect' 'Perfect' 'Perfect' 'Perfect' 'Perfect' 'emphysema'\n",
      " 'emphysema' 'Perfect' 'Perfect' 'Perfect' 'Perfect' 'Perfect' 'gas_intox'\n",
      " 'cardiac' 'Perfect' 'cardiac' 'asthama' 'asthama' 'Perfect' 'Perfect'\n",
      " 'cardiac' 'Perfect' 'Perfect' 'Perfect' 'Perfect' 'cardiac' 'Perfect'\n",
      " 'Perfect' 'Perfect' 'asthama' 'Perfect' 'Perfect' 'cardiac' 'Perfect'\n",
      " 'Perfect' 'emphysema' 'asthama' 'Perfect' 'cardiac' 'Perfect' 'Perfect'\n",
      " 'Perfect' 'Perfect' 'Perfect' 'Perfect' 'asthama' 'Perfect' 'Perfect'\n",
      " 'Perfect' 'Perfect' 'gas_intox' 'Perfect' 'asthama' 'Perfect' 'Perfect'\n",
      " 'Perfect' 'asthama' 'Perfect' 'Perfect' 'cardiac' 'gas_intox' 'Perfect'\n",
      " 'Perfect' 'Perfect' 'Perfect' 'Perfect' 'Perfect' 'Perfect' 'Perfect'\n",
      " 'Perfect' 'Perfect' 'Perfect' 'Perfect' 'Perfect' 'Perfect' 'Perfect'\n",
      " 'Perfect' 'Perfect' 'Perfect' 'Perfect' 'cardiac' 'emphysema' 'cardiac'\n",
      " 'emphysema' 'Perfect' 'Perfect' 'Perfect' 'Perfect' 'asthama' 'cardiac'\n",
      " 'asthama' 'asthama' 'Perfect' 'Perfect' 'Perfect' 'Perfect' 'Perfect'\n",
      " 'Perfect' 'Perfect' 'cardiac' 'Perfect' 'Perfect' 'Perfect' 'Perfect'\n",
      " 'Perfect' 'Perfect' 'Perfect' 'Perfect' 'Perfect' 'Perfect' 'Perfect'\n",
      " 'Perfect' 'Perfect' 'Perfect' 'Perfect' 'Perfect' 'asthama' 'gas_intox'\n",
      " 'Perfect' 'Perfect' 'Perfect' 'emphysema' 'Perfect' 'Perfect' 'Perfect'\n",
      " 'Perfect' 'Perfect' 'Perfect' 'Perfect' 'Perfect' 'Perfect' 'Perfect'\n",
      " 'gas_intox' 'Perfect' 'Perfect' 'gas_intox' 'cardiac' 'cardiac' 'Perfect'\n",
      " 'Perfect' 'gas_intox' 'emphysema' 'Perfect' 'Perfect' 'Perfect'\n",
      " 'emphysema' 'Perfect' 'Perfect' 'Perfect' 'asthama' 'Perfect' 'Perfect'\n",
      " 'Perfect' 'Perfect' 'Perfect' 'Perfect' 'cardiac' 'Perfect' 'Perfect'\n",
      " 'Perfect' 'cardiac' 'Perfect' 'Perfect' 'Perfect' 'Perfect' 'Perfect'\n",
      " 'Perfect' 'Perfect' 'emphysema' 'Perfect' 'emphysema' 'emphysema'\n",
      " 'Perfect' 'Perfect' 'Perfect' 'Perfect' 'cardiac' 'gas_intox' 'Perfect'\n",
      " 'Perfect' 'Perfect' 'Perfect' 'Perfect' 'Perfect' 'asthama' 'Perfect'\n",
      " 'Perfect' 'Perfect' 'emphysema' 'Perfect' 'Perfect' 'Perfect' 'Perfect'\n",
      " 'Perfect' 'Perfect' 'Perfect' 'Perfect' 'Perfect' 'Perfect' 'Perfect'\n",
      " 'gas_intox' 'Perfect' 'Perfect' 'Perfect' 'Perfect' 'Perfect' 'emphysema'\n",
      " 'Perfect' 'gas_intox' 'Perfect' 'Perfect' 'Perfect' 'Perfect' 'Perfect'\n",
      " 'Perfect' 'cardiac' 'asthama' 'Perfect' 'Perfect' 'Perfect' 'Perfect'\n",
      " 'Perfect' 'emphysema' 'Perfect' 'Perfect' 'Perfect' 'asthama' 'Perfect'\n",
      " 'emphysema' 'Perfect' 'gas_intox' 'Perfect' 'Perfect' 'emphysema'\n",
      " 'Perfect' 'emphysema' 'Perfect' 'asthama' 'cardiac' 'Perfect' 'Perfect'\n",
      " 'gas_intox' 'asthama' 'Perfect' 'Perfect' 'Perfect' 'gas_intox' 'asthama'\n",
      " 'Perfect' 'Perfect' 'Perfect' 'Perfect' 'Perfect' 'Perfect' 'Perfect'\n",
      " 'cardiac' 'Perfect' 'Perfect' 'Perfect' 'Perfect' 'Perfect' 'Perfect'\n",
      " 'cardiac' 'Perfect' 'Perfect' 'Perfect' 'emphysema' 'Perfect' 'Perfect'\n",
      " 'Perfect' 'Perfect' 'gas_intox' 'Perfect' 'Perfect' 'emphysema' 'cardiac'\n",
      " 'cardiac' 'Perfect' 'Perfect' 'emphysema' 'emphysema' 'Perfect' 'Perfect'\n",
      " 'emphysema' 'emphysema' 'Perfect' 'Perfect' 'asthama' 'Perfect' 'Perfect'\n",
      " 'Perfect' 'Perfect' 'Perfect' 'Perfect' 'Perfect' 'gas_intox' 'Perfect'\n",
      " 'Perfect' 'Perfect' 'Perfect' 'gas_intox' 'Perfect' 'Perfect' 'asthama'\n",
      " 'Perfect' 'Perfect' 'emphysema' 'Perfect' 'gas_intox' 'Perfect' 'Perfect'\n",
      " 'Perfect' 'Perfect' 'Perfect' 'Perfect' 'Perfect' 'Perfect' 'cardiac'\n",
      " 'Perfect' 'cardiac' 'Perfect' 'Perfect' 'Perfect' 'Perfect' 'Perfect'\n",
      " 'Perfect' 'Perfect' 'emphysema' 'Perfect' 'Perfect' 'Perfect' 'Perfect'\n",
      " 'Perfect' 'Perfect' 'Perfect' 'Perfect' 'Perfect' 'Perfect' 'Perfect'\n",
      " 'Perfect' 'Perfect' 'Perfect' 'Perfect']\n"
     ]
    }
   ],
   "source": [
    "import numpy as np\n",
    "X = np.array(df[['CO2','O2','N2']])#features \n",
    "y = np.array(df['class'])#target\n",
    "X_train,X_test,y_train,y_test = train_test_split(X,y,test_size = 0.33)\n",
    "knn = KNeighborsClassifier(n_neighbors = 3)#We've assigned the number of neighbours as an odd number to improve accuracy \n",
    "knn.fit(X_train,y_train)#Fitting the model\n",
    "prediction = knn.predict(X_test)#predicts the disease if there is a high probability of it or 'perfect' if there is no disease \n",
    "#print X_test\n",
    "print prediction"
   ]
  },
  {
   "cell_type": "markdown",
   "metadata": {},
   "source": [
    "## Preprocessing data"
   ]
  },
  {
   "cell_type": "code",
   "execution_count": 32,
   "metadata": {},
   "outputs": [
    {
     "data": {
      "text/plain": [
       "numpy.ndarray"
      ]
     },
     "execution_count": 32,
     "metadata": {},
     "output_type": "execute_result"
    }
   ],
   "source": [
    "type(y)"
   ]
  },
  {
   "cell_type": "code",
   "execution_count": 33,
   "metadata": {},
   "outputs": [],
   "source": [
    "X = np.array(df[['CO2','O2']])"
   ]
  },
  {
   "cell_type": "code",
   "execution_count": 34,
   "metadata": {},
   "outputs": [
    {
     "data": {
      "text/plain": [
       "array([25.88, 25.77, 25.21, ..., 12.46,  9.4 ,  0.3 ])"
      ]
     },
     "execution_count": 34,
     "metadata": {},
     "output_type": "execute_result"
    }
   ],
   "source": [
    "X[:,0]"
   ]
  },
  {
   "cell_type": "code",
   "execution_count": 35,
   "metadata": {},
   "outputs": [
    {
     "data": {
      "text/plain": [
       "array([3.93 , 3.95 , 2.98 , ..., 0.038, 0.082, 0.018])"
      ]
     },
     "execution_count": 35,
     "metadata": {},
     "output_type": "execute_result"
    }
   ],
   "source": [
    "X[:, 1]"
   ]
  },
  {
   "cell_type": "code",
   "execution_count": 36,
   "metadata": {},
   "outputs": [
    {
     "data": {
      "text/plain": [
       "array(['gas_intox', 'gas_intox', 'gas_intox', ..., 'Perfect', 'Perfect',\n",
       "       'Perfect'], dtype=object)"
      ]
     },
     "execution_count": 36,
     "metadata": {},
     "output_type": "execute_result"
    }
   ],
   "source": [
    "y"
   ]
  },
  {
   "cell_type": "code",
   "execution_count": 37,
   "metadata": {},
   "outputs": [
    {
     "data": {
      "text/plain": [
       "array([[3.497e+01, 2.100e-01, 3.050e+00],\n",
       "       [2.556e+01, 3.810e+00, 5.320e+00],\n",
       "       [2.553e+01, 3.110e+00, 5.910e+00],\n",
       "       ...,\n",
       "       [1.517e+01, 9.800e-02, 7.400e-01],\n",
       "       [9.530e+00, 7.200e-02, 5.700e-01],\n",
       "       [1.251e+01, 2.000e-03, 2.600e-01]])"
      ]
     },
     "execution_count": 37,
     "metadata": {},
     "output_type": "execute_result"
    }
   ],
   "source": [
    "X_test"
   ]
  },
  {
   "cell_type": "markdown",
   "metadata": {},
   "source": [
    "## Creating a numpy array with only one element. We need to reshape this to be able to put it into the predict function in case we have to predict for a single set of gas composition "
   ]
  },
  {
   "cell_type": "code",
   "execution_count": 38,
   "metadata": {},
   "outputs": [],
   "source": [
    "xxxx = np.array([0,0,0])"
   ]
  },
  {
   "cell_type": "code",
   "execution_count": 39,
   "metadata": {},
   "outputs": [],
   "source": [
    "x1 = xxxx.reshape(1,-1)"
   ]
  }
 ],
 "metadata": {
  "kernelspec": {
   "display_name": "Python 2",
   "language": "python",
   "name": "python2"
  },
  "language_info": {
   "codemirror_mode": {
    "name": "ipython",
    "version": 2
   },
   "file_extension": ".py",
   "mimetype": "text/x-python",
   "name": "python",
   "nbconvert_exporter": "python",
   "pygments_lexer": "ipython2",
   "version": "2.7.15"
  }
 },
 "nbformat": 4,
 "nbformat_minor": 2
}
